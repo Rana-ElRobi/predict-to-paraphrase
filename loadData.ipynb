{
 "cells": [
  {
   "cell_type": "markdown",
   "metadata": {},
   "source": [
    "Imoport needed packages"
   ]
  },
  {
   "cell_type": "code",
   "execution_count": 6,
   "metadata": {},
   "outputs": [],
   "source": [
    "import csv"
   ]
  },
  {
   "cell_type": "markdown",
   "metadata": {},
   "source": [
    "Function that load data and re-shap it as list of [intent and question] \n",
    "takes argument `fileName` wich is in our case is `NBB_intents.csv`"
   ]
  },
  {
   "cell_type": "code",
   "execution_count": 10,
   "metadata": {},
   "outputs": [
    {
     "name": "stdout",
     "output_type": "stream",
     "text": [
      "First 5 records in main_dataset\n",
      "[['about', 'If I have comments; what should I do?'], ['about', 'how to get a taxi here'], ['about', 'how can I give you feedback'], ['about', 'how can I apply']]\n"
     ]
    }
   ],
   "source": [
    "def load_data(fileName):\n",
    "    data_set = csv.reader(open(fileName), delimiter=',',quoting=csv.QUOTE_NONE,skipinitialspace=True)\n",
    "    # creat new list for data after re-shaping\n",
    "    main_dataset = []\n",
    "    # read all questions samples \n",
    "    for row in data_set:\n",
    "        curr_senten = row\n",
    "        # new set [\"intent\",[\"cleaned question words\"]]\n",
    "        main_dataset.append([curr_senten[1],curr_senten[0]])\n",
    "    # Check data \n",
    "    print(\"First 5 records in main_dataset\")\n",
    "    print(main_dataset [1:5])\n",
    "    return main_dataset"
   ]
  }
 ],
 "metadata": {
  "kernelspec": {
   "display_name": "Python 3",
   "language": "python",
   "name": "python3"
  },
  "language_info": {
   "codemirror_mode": {
    "name": "ipython",
    "version": 3
   },
   "file_extension": ".py",
   "mimetype": "text/x-python",
   "name": "python",
   "nbconvert_exporter": "python",
   "pygments_lexer": "ipython3",
   "version": "3.5.2"
  }
 },
 "nbformat": 4,
 "nbformat_minor": 2
}
